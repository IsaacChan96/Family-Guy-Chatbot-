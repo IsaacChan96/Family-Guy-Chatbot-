{
 "cells": [
  {
   "cell_type": "code",
   "execution_count": 0,
   "metadata": {
    "colab": {},
    "colab_type": "code",
    "id": "SxbJBQGpV4Fi"
   },
   "outputs": [],
   "source": [
    "#Description: This is a 'self learning' chatbot program\n",
    "#Resources:\n",
    "#(1) https://www.freecodecamp.org/news/how-to-process-textual-data-using-tf-idf-in-python-cd2bbc0a94a3/ \n",
    "#(2) https://github.com/randerson112358/Building-a-Simple-Chatbot-in-Python-using-NLTK \n",
    "#(3) http://www.tfidf.com/ \n",
    "#(4) https://scikit-learn.org/stable/modules/generated/sklearn.metrics.pairwise.cosine_similarity.html"
   ]
  },
  {
   "cell_type": "code",
   "execution_count": 22,
   "metadata": {
    "colab": {
     "base_uri": "https://localhost:8080/",
     "height": 50
    },
    "colab_type": "code",
    "id": "1lEZhFj-QDVN",
    "outputId": "f224bbee-7b33-4104-8e2a-a87583718a4b"
   },
   "outputs": [
    {
     "name": "stdout",
     "output_type": "stream",
     "text": [
      "Requirement already satisfied: nltk in /usr/local/lib/python3.6/dist-packages (3.2.5)\n",
      "Requirement already satisfied: six in /usr/local/lib/python3.6/dist-packages (from nltk) (1.12.0)\n"
     ]
    }
   ],
   "source": [
    "#Install the package NLTk\n",
    "pip install nltk"
   ]
  },
  {
   "cell_type": "code",
   "execution_count": 1,
   "metadata": {
    "colab": {
     "base_uri": "https://localhost:8080/",
     "height": 386
    },
    "colab_type": "code",
    "id": "MMq4xYeKQIMa",
    "outputId": "3c53ccde-5486-4fbd-a702-a31a9b8c9ba0"
   },
   "outputs": [
    {
     "ename": "SyntaxError",
     "evalue": "invalid syntax (<ipython-input-1-5c34c30463d7>, line 2)",
     "output_type": "error",
     "traceback": [
      "\u001b[0;36m  File \u001b[0;32m\"<ipython-input-1-5c34c30463d7>\"\u001b[0;36m, line \u001b[0;32m2\u001b[0m\n\u001b[0;31m    pip install newspaper3k\u001b[0m\n\u001b[0m              ^\u001b[0m\n\u001b[0;31mSyntaxError\u001b[0m\u001b[0;31m:\u001b[0m invalid syntax\n"
     ]
    }
   ],
   "source": [
    "#Install the package newspaper3k\n",
    "pip install newspaper3k"
   ]
  },
  {
   "cell_type": "code",
   "execution_count": 1,
   "metadata": {
    "colab": {},
    "colab_type": "code",
    "id": "PrsT_gRuQX5Q"
   },
   "outputs": [],
   "source": [
    "#Import libraries\n",
    "from newspaper import Article\n",
    "import random\n",
    "import string\n",
    "from sklearn.feature_extraction.text import TfidfVectorizer\n",
    "from sklearn.metrics.pairwise import cosine_similarity\n",
    "import nltk\n",
    "import numpy as np\n",
    "import warnings"
   ]
  },
  {
   "cell_type": "code",
   "execution_count": 2,
   "metadata": {
    "colab": {},
    "colab_type": "code",
    "id": "8_v7qVy3QtlL"
   },
   "outputs": [],
   "source": [
    "#Ignore any warning messages\n",
    "warnings.filterwarnings('ignore')"
   ]
  },
  {
   "cell_type": "code",
   "execution_count": 3,
   "metadata": {
    "colab": {
     "base_uri": "https://localhost:8080/",
     "height": 34
    },
    "colab_type": "code",
    "id": "G2VzgJKOQzD6",
    "outputId": "007974c5-95ca-47bd-80f1-c225fa1df10e"
   },
   "outputs": [
    {
     "data": {
      "text/plain": [
       "True"
      ]
     },
     "execution_count": 3,
     "metadata": {},
     "output_type": "execute_result"
    }
   ],
   "source": [
    "#Download the packages from NLTK\n",
    "nltk.download('punkt', quiet=True)\n",
    "nltk.download('wordnet', quiet=True)"
   ]
  },
  {
   "cell_type": "code",
   "execution_count": 4,
   "metadata": {},
   "outputs": [
    {
     "data": {
      "text/plain": [
       "'Mahjong: Singaporean’s Favourite Pastime\\n\\nWay before Crazy Rich Asians made the game of Mahjong famous by slotting it into the most important scene in the movie, some of us Singaporeans are already killing it in our self-directed “God of Gamblers” series.\\n\\nWeek in week out, we fully utilise the “healing power of mahjong” and how it treats senile as an excuse to gather with our friends or family members over a game on mahjong.\\n\\nMahjong is good, they say. It treats senile, they say.\\n\\nThat was before I lost all my taxi money and end up walking home.\\n\\nWith that, we compiled a Mahjong guide and find out the probability of some of these winning hands:\\n\\nThe Probability of Seeing These Mahjong Winning Hands\\n\\nSome of us are guilty of taking Instagram stories of our tiles whenever we win with a certain hand.\\n\\nWe get it, you made some money, well-done!\\n\\nTruth is, not all Mahjong hands are created evenly. Some of these hands have a lower chance of happening than the rest!\\n\\nBased on a study done, if you were to:\\n\\nPlay 1 full game (assuming 16 rounds ) of Mahjong a day\\n\\n) of Mahjong a day Starting from 1 January 2018\\n\\nAssuming 365 days a year\\n\\nHere are the dates of which you will see these Mahjong hands:\\n\\nMahjong Hand When will you see it? Number of rounds\\n\\n(Assuming 16 rounds per day) Probability of seeing this winning Mahjong hand All Chows without any animal or bonus tiles\\n\\n(平和) 1 January 2018 1 Day\\n\\n(16 rounds) 1 in 16 rounds Mixed Suit\\n\\n(混一色) 1 January 2018 1 Day\\n\\n(16 rounds) 1 in 16 rounds Pure Suit\\n\\n(清一色) 2 January 2018 2 Days\\n\\n(32 rounds) 1 in 32 rounds Winning with a Replacement tile for bonus tiles\\n\\n(花上自摸) 13 January 2018 13 Days\\n\\n(208 rounds) 1 in 208 rounds Robbing the Kong\\n\\n(抢杠) 20 January 2018 20 Days\\n\\n(320 rounds) 1 in 320 rounds Little Three Dragons/Little Three Scholars\\n\\n(小三元) 24 January 2018 24 Days\\n\\n(384 rounds) 1 in 384 rounds Thirteen Orphans/Thirteen Wonders\\n\\n(十三幺) 3 June 2018 154 Days\\n\\n(2,464 rounds) 1 in 2,464 rounds Little Four Winds/Little Four Blessings\\n\\n(小四喜) 22 July 2018 202 Days\\n\\n(3,232 rounds) 1 in 3,232 rounds Big Three Dragons/Big Three Scholars (immediate)\\n\\n(大三元) 4 August 2018 234 Days\\n\\n(3,744 rounds) 1 in 3,744 rounds All Honours\\n\\n(字一色) 21 November 2018 325 Days\\n\\n(5,200 rounds) 1 in 5,200 rounds Pure Green Suit Hand\\n\\n(绿一色) 12 October 2019 650 Days\\n\\n(10,400 rounds) 1 in 10,400 rounds Big Four Winds/Big Four Blessings\\n\\n(大四喜) 27 November 2026 3,616 Days\\n\\n(57,856 rounds) 1 in 57,856 rounds\\n\\nSource: mahjongnews.com\\n\\nMahjong Guide For Singaporeans: Scoring\\n\\nThe amount of money you win in a round of Mahjong depends on the number of Doubles (some people call them “tai” or “fan”) your combination entitles you to.\\n\\nIf you are having trouble remembering how many Doubles your combination entitles you to, we did a compilation to help you out!\\n\\nNumber of doubles\\n\\n(Tai or Fan) Combination 1 Double\\n\\n一台 Seat Flower (正花/门花)\\n\\n\\n\\nAll Chows but with Animal or bonus tile (臭平和)\\n\\n\\n\\nPong of Dragons (箭刻)\\n\\n\\n\\nPong of Seat Wind (门风刻)\\n\\n\\n\\nPong of Round Wind (圈风刻)\\n\\n\\n\\nConcealed Hand and self-drawn (门清)\\n\\n\\n\\nRobbing the Kong (抢杠)\\n\\n\\n\\nWinning with the Last Drawn Tile (海底捞月)\\n\\n\\n\\nWinning with a Replacement tile for kongs (杠上开花)\\n\\n\\n\\nWinning with a Replacement tile for bonus tiles (花上自摸)\\n\\n\\n\\nFlower Set Bonus (花杠加台)\\n\\n\\n\\nAnimal Set Bonus (动物杠加台)\\n\\n\\n\\nAny Animal Tile (动物加台) 2 Doubles\\n\\n两台 All Pongs or All Pairs (碰碰和/对对和)\\n\\n\\n\\nMixed Suit (混一色)\\n\\n\\n\\nMixed Terminals and Honours (混幺九/混老头)\\n\\n\\n\\nLittle Four Winds/Little Four Blessings (小四喜) 3 Doubles\\n\\n三台 Little Three Dragons/Little Three Scholars (小三元) 4 Doubles\\n\\n四台 All Chows without any animal or bonus tiles (平和)\\n\\n\\n\\nPure Suit (清一色) 5 Doubles\\n\\n(Usually the limit in Singapore context)\\n\\n五台 Heavenly Win (天和)\\n\\n\\n\\nEarthly Win (地和)\\n\\n\\n\\nThirteen Orphans/Thirteen Wonders (十三幺)\\n\\n\\n\\nBig Four Winds/Big Four Blessings (大四喜)\\n\\n\\n\\nBig Three Dragons/Big Three Scholars (大三元)\\n\\n\\n\\nAll Honours (字一色)\\n\\n\\n\\nPure Green Suit Hand (绿一色)\\n\\n\\n\\nAll Terminals (全幺九/清老头)\\n\\n\\n\\nFour Concealed Pongs (self-drawn) (四暗刻/坎坎和)\\n\\n\\n\\nAll Kongs (杠杠和/十八罗汉)\\n\\n\\n\\nKong on Kong Win (杠上杠和)\\n\\n\\n\\nFlower Win/Robbing the Flower (immediate) (七抢一)\\n\\n\\n\\nFlower Win/Eight Immortals (immediate) (花和/八仙过海)\\n\\n\\n\\nNine Gates (九连宝灯)\\n\\nSource: Singapore Sparrows\\n\\nFurther Reading on the Probability of These Mahjong Winning Hand\\n\\nMahjong Combination: All Chows without any animal or bonus tiles (平和) and Mixed Suit (混一色)\\n\\nAll Chows without any animal or bonus tiles (平和) and Mixed Suit (混一色) the more common winning hands in a game of Mahjong. These two combinations have a 1 in 16 chance of happening throughout a round of mahjong.\\n\\nHere’s what an “All Chows without any animal or bonus tiles (平和)” combination looks like:\\n\\nIt is a winning hand which consists only of consecutive numbers in sets of three. The set should not have any flowers, animals, own wind or dragon tiles in it.\\n\\nHere’s what a Mixed Suit (混一色)combination looks like:\\n\\nFor Mixed suit, it is a combination made up of tiles of the same suit and includes Winds or Dragons tiles.\\n\\nMahjong Combination: Pure Suit (清一色)\\n\\nA Pure Suit (清一色) winning hand has a 1 in 32 chance of occurring.\\n\\nA Pure Suit is a combination made up of tiles from the same suit (eg. Bamboo, Circles or Characters).\\n\\nMahjong Combination: Winning With a Replacement Tile for Bonus Tiles (花上自摸)\\n\\nFor every 208 rounds of Mahjong game, there is a chance of players winning the game, with a hand completed by a replacement card. This is after receiving a flower or animal tile.\\n\\nMahjong Combination: Robbing the Kong (抢杠)\\n\\nA winning hand that is completed by snatching a declared Kong from other players. There is a 1 in 320 chance of this happening.\\n\\nMahjong Combination: Little Three Dragons/Little Three Scholars (小三元)\\n\\nLittle Three Dragons/Little Three Scholars is a hand made up of 2 sets of Dragon tiles and the remaining Dragon set as the eye.\\n\\nThere is a 1 in 384 chance of this happening.\\n\\nNow, to some of the hardest combinations. These are the only type of winning hands worth putting on your social media.\\n\\nMahjong Combination: Thirteen Orphans/Thirteen Wonders (十三幺)\\n\\nThis is, in my opinion, one of the hardest combinations to get, but I was wrong.\\n\\nTurns out, the Thirteen Orphans/Thirteen Wonders is actually the easiest when compared to the rest of the special combinations. There is a 1 in 2,464 chance of it happening.\\n\\nThis combination requires each of the four Winds tile, each of the three Dragons tile, the number one and number nine of the three suits (Bamboo, Circles or Characters).\\n\\nMahjong Combination: Little Four Winds/Little Four Blessings (小四喜)\\n\\nWe are now down to some of the rarer winning hands in mahjong.\\n\\nThe Little Four Winds/Little Four Blessings is made up of three of the Winds (in a pong or Kong)with one pair of the remaining Wind. This combination has a 1 in 3,232 chance of happening.\\n\\nMahjong Combination: Big Three Dragons/Big Three Scholars (大三元)\\n\\nUnleash the Dragons!\\n\\nIf you have three of the Dragons (in a pong or kong), you are winning the game with the Big Three Dragons/Big Three Scholars combination.\\n\\nThere is only a 1 in 3,744 chance of you getting it.\\n\\nMahjong Combination: All Honours (字一色)\\n\\nIf you have a hand made up of either the four Winds or three Dragons, you have an All Honours winning hand.\\n\\nThis combination only appears once every 5,200 round.\\n\\nMahjong Combination: Pure Green Suit Hand/ The Green Bamboo (绿一色)\\n\\nWe are down to the second rarest combination. The Pure Green Suit Hand has a 1 in 10,400 chance of happening.\\n\\nThe reason that this hand got its name lies in the colour of all the tiles in this winning hand. Made up of only Bamboo tiles and the ‘Fa’ tile, this winning hand is hard to come by.\\n\\nMahjong Combination: Big Four Winds/Big Four Blessings (大四喜)\\n\\nNo prize for guessing, but the Big Four Winds/Big Four Blessings winning hand has the lowest probability in a game of mahjong. With a rare 1 in 57,856 chance of happening, this combination definitely needs to go onto your Instastory!\\n\\nThis winning hand requires all the Winds (be it pong or kong) to be in the combination.\\n\\nHow To Play Mahjong\\n\\nThere are a total of 148 tiles in a Singaporean Mahjong set.\\n\\nThe tilesets are:\\n\\nThe Circles Suit (筒子)\\n\\nThere are 4 of each tile in a Singaporean Mahjong set.\\n\\nThe Bamboo Suit (索子)\\n\\nThere are 4 of each tile in a Singaporean Mahjong set.\\n\\nThe Character Suit (万子)\\n\\nThere are 4 of each tile in a Singaporean Mahjong set.\\n\\nThe Wind Tiles (万子)\\n\\nThere are 4 of each tile in a Singaporean Mahjong set.\\n\\nThe Dragon Tiles (三元牌)\\n\\nThere are 4 of each tile in a Singaporean Mahjong set.\\n\\nThe Flower and Animals Tiles\\n\\nThere is only one of each per set.\\n\\nHow To Win Mahjong\\n\\nOver a game of mahjong, tiles are distributed to the players and the game is played.\\n\\nThe game ends when one of the players managed to assemble a winning hand or when the unused tile runs out. In the case when the unused tile runs out, the game is considered a draw.\\n\\nWhat Happens Next After A Win?\\n\\nWhen someone wins the game, the banker position is passed on to the player on the right of the current banker. Each time, the banker position completes its cycle on all the four players, the “Wind” of the game changes.\\n\\nA mahjong round is completed when all four “Winds” are completed.'"
      ]
     },
     "execution_count": 4,
     "metadata": {},
     "output_type": "execute_result"
    }
   ],
   "source": [
    "article = Article('https://blog.seedly.sg/mahjong-probability-guide-singapore')\n",
    "article.download()\n",
    "article.parse()\n",
    "article.nlp()\n",
    "corpus = article.text\n",
    "corpus"
   ]
  },
  {
   "cell_type": "code",
   "execution_count": 3,
   "metadata": {
    "colab": {
     "base_uri": "https://localhost:8080/",
     "height": 1000
    },
    "colab_type": "code",
    "id": "MLzKrPYVQ_YD",
    "outputId": "a634670b-3d0c-4a66-ca4b-2324eedbf339"
   },
   "outputs": [
    {
     "name": "stdout",
     "output_type": "stream",
     "text": [
      "Overview\n",
      "\n",
      "Chronic kidney disease, also called chronic kidney failure, describes the gradual loss of kidney function. Your kidneys filter wastes and excess fluids from your blood, which are then excreted in your urine. When chronic kidney disease reaches an advanced stage, dangerous levels of fluid, electrolytes and wastes can build up in your body.\n",
      "\n",
      "In the early stages of chronic kidney disease, you may have few signs or symptoms. Chronic kidney disease may not become apparent until your kidney function is significantly impaired.\n",
      "\n",
      "Treatment for chronic kidney disease focuses on slowing the progression of the kidney damage, usually by controlling the underlying cause. Chronic kidney disease can progress to end-stage kidney failure, which is fatal without artificial filtering (dialysis) or a kidney transplant.\n",
      "\n",
      "Chronic kidney disease care at Mayo Clinic\n",
      "\n",
      "How kidneys work\n",
      "\n",
      "Symptoms\n",
      "\n",
      "Signs and symptoms of chronic kidney disease develop over time if kidney damage progresses slowly. Signs and symptoms of kidney disease may include:\n",
      "\n",
      "Nausea\n",
      "\n",
      "Vomiting\n",
      "\n",
      "Loss of appetite\n",
      "\n",
      "Fatigue and weakness\n",
      "\n",
      "Sleep problems\n",
      "\n",
      "Changes in how much you urinate\n",
      "\n",
      "Decreased mental sharpness\n",
      "\n",
      "Muscle twitches and cramps\n",
      "\n",
      "Swelling of feet and ankles\n",
      "\n",
      "Persistent itching\n",
      "\n",
      "Chest pain, if fluid builds up around the lining of the heart\n",
      "\n",
      "Shortness of breath, if fluid builds up in the lungs\n",
      "\n",
      "High blood pressure (hypertension) that's difficult to control\n",
      "\n",
      "Signs and symptoms of kidney disease are often nonspecific, meaning they can also be caused by other illnesses. Because your kidneys are highly adaptable and able to compensate for lost function, signs and symptoms may not appear until irreversible damage has occurred.\n",
      "\n",
      "When to see a doctor\n",
      "\n",
      "Make an appointment with your doctor if you have any signs or symptoms of kidney disease.\n",
      "\n",
      "If you have a medical condition that increases your risk of kidney disease, your doctor is likely to monitor your blood pressure and kidney function with urine and blood tests during regular office visits. Ask your doctor whether these tests are necessary for you.\n",
      "\n",
      "Causes\n",
      "\n",
      "Normal kidney vs. diseased kidney Normal kidney vs. diseased kidney\n",
      "\n",
      "Polycystic kidney Polycystic kidney\n",
      "\n",
      "Chronic kidney disease occurs when a disease or condition impairs kidney function, causing kidney damage to worsen over several months or years.\n",
      "\n",
      "Diseases and conditions that cause chronic kidney disease include:\n",
      "\n",
      "Type 1 or type 2 diabetes\n",
      "\n",
      "High blood pressure\n",
      "\n",
      "Glomerulonephritis (gloe-mer-u-low-nuh-FRY-tis), an inflammation of the kidney's filtering units (glomeruli)\n",
      "\n",
      "Interstitial nephritis (in-tur-STISH-ul nuh-FRY-tis), an inflammation of the kidney's tubules and surrounding structures\n",
      "\n",
      "Polycystic kidney disease\n",
      "\n",
      "Prolonged obstruction of the urinary tract, from conditions such as enlarged prostate, kidney stones and some cancers\n",
      "\n",
      "Vesicoureteral (ves-ih-koe-yoo-REE-tur-ul) reflux, a condition that causes urine to back up into your kidneys\n",
      "\n",
      "Recurrent kidney infection, also called pyelonephritis (pie-uh-low-nuh-FRY-tis)\n",
      "\n",
      "Risk factors\n",
      "\n",
      "Factors that may increase your risk of chronic kidney disease include:\n",
      "\n",
      "Diabetes\n",
      "\n",
      "High blood pressure\n",
      "\n",
      "Heart and blood vessel (cardiovascular) disease\n",
      "\n",
      "Smoking\n",
      "\n",
      "Obesity\n",
      "\n",
      "Being African-American, Native American or Asian-American\n",
      "\n",
      "Family history of kidney disease\n",
      "\n",
      "Abnormal kidney structure\n",
      "\n",
      "Older age\n",
      "\n",
      "Complications\n",
      "\n",
      "Chronic kidney disease can affect almost every part of your body. Potential complications may include:\n",
      "\n",
      "Fluid retention, which could lead to swelling in your arms and legs, high blood pressure, or fluid in your lungs (pulmonary edema)\n",
      "\n",
      "A sudden rise in potassium levels in your blood (hyperkalemia), which could impair your heart's ability to function and may be life-threatening\n",
      "\n",
      "Heart and blood vessel (cardiovascular) disease\n",
      "\n",
      "Weak bones and an increased risk of bone fractures\n",
      "\n",
      "Anemia\n",
      "\n",
      "Decreased sex drive, erectile dysfunction or reduced fertility\n",
      "\n",
      "Damage to your central nervous system, which can cause difficulty concentrating, personality changes or seizures\n",
      "\n",
      "Decreased immune response, which makes you more vulnerable to infection\n",
      "\n",
      "Pericarditis, an inflammation of the saclike membrane that envelops your heart (pericardium)\n",
      "\n",
      "Pregnancy complications that carry risks for the mother and the developing fetus\n",
      "\n",
      "Irreversible damage to your kidneys (end-stage kidney disease), eventually requiring either dialysis or a kidney transplant for survival\n",
      "\n",
      "Prevention\n",
      "\n",
      "To reduce your risk of developing kidney disease:\n"
     ]
    }
   ],
   "source": [
    "#Get the article URL\n",
    "article = Article('https://www.mayoclinic.org/diseases-conditions/chronic-kidney-disease/symptoms-causes/syc-20354521')\n",
    "article.download()\n",
    "article.parse()\n",
    "article.nlp()\n",
    "corpus = article.text\n",
    "\n",
    "#Print the corpus/text\n",
    "print(corpus)"
   ]
  },
  {
   "cell_type": "code",
   "execution_count": 5,
   "metadata": {
    "colab": {
     "base_uri": "https://localhost:8080/",
     "height": 54
    },
    "colab_type": "code",
    "id": "Nw0mMb1bRXBd",
    "outputId": "8a4d6b3b-e217-44ec-cb79-4f06bd459521"
   },
   "outputs": [
    {
     "name": "stdout",
     "output_type": "stream",
     "text": [
      "['Mahjong: Singaporean’s Favourite Pastime\\n\\nWay before Crazy Rich Asians made the game of Mahjong famous by slotting it into the most important scene in the movie, some of us Singaporeans are already killing it in our self-directed “God of Gamblers” series.', 'Week in week out, we fully utilise the “healing power of mahjong” and how it treats senile as an excuse to gather with our friends or family members over a game on mahjong.', 'Mahjong is good, they say.', 'It treats senile, they say.', 'That was before I lost all my taxi money and end up walking home.', 'With that, we compiled a Mahjong guide and find out the probability of some of these winning hands:\\n\\nThe Probability of Seeing These Mahjong Winning Hands\\n\\nSome of us are guilty of taking Instagram stories of our tiles whenever we win with a certain hand.', 'We get it, you made some money, well-done!', 'Truth is, not all Mahjong hands are created evenly.', 'Some of these hands have a lower chance of happening than the rest!', 'Based on a study done, if you were to:\\n\\nPlay 1 full game (assuming 16 rounds ) of Mahjong a day\\n\\n) of Mahjong a day Starting from 1 January 2018\\n\\nAssuming 365 days a year\\n\\nHere are the dates of which you will see these Mahjong hands:\\n\\nMahjong Hand When will you see it?', 'Number of rounds\\n\\n(Assuming 16 rounds per day) Probability of seeing this winning Mahjong hand All Chows without any animal or bonus tiles\\n\\n(平和) 1 January 2018 1 Day\\n\\n(16 rounds) 1 in 16 rounds Mixed Suit\\n\\n(混一色) 1 January 2018 1 Day\\n\\n(16 rounds) 1 in 16 rounds Pure Suit\\n\\n(清一色) 2 January 2018 2 Days\\n\\n(32 rounds) 1 in 32 rounds Winning with a Replacement tile for bonus tiles\\n\\n(花上自摸) 13 January 2018 13 Days\\n\\n(208 rounds) 1 in 208 rounds Robbing the Kong\\n\\n(抢杠) 20 January 2018 20 Days\\n\\n(320 rounds) 1 in 320 rounds Little Three Dragons/Little Three Scholars\\n\\n(小三元) 24 January 2018 24 Days\\n\\n(384 rounds) 1 in 384 rounds Thirteen Orphans/Thirteen Wonders\\n\\n(十三幺) 3 June 2018 154 Days\\n\\n(2,464 rounds) 1 in 2,464 rounds Little Four Winds/Little Four Blessings\\n\\n(小四喜) 22 July 2018 202 Days\\n\\n(3,232 rounds) 1 in 3,232 rounds Big Three Dragons/Big Three Scholars (immediate)\\n\\n(大三元) 4 August 2018 234 Days\\n\\n(3,744 rounds) 1 in 3,744 rounds All Honours\\n\\n(字一色) 21 November 2018 325 Days\\n\\n(5,200 rounds) 1 in 5,200 rounds Pure Green Suit Hand\\n\\n(绿一色) 12 October 2019 650 Days\\n\\n(10,400 rounds) 1 in 10,400 rounds Big Four Winds/Big Four Blessings\\n\\n(大四喜) 27 November 2026 3,616 Days\\n\\n(57,856 rounds) 1 in 57,856 rounds\\n\\nSource: mahjongnews.com\\n\\nMahjong Guide For Singaporeans: Scoring\\n\\nThe amount of money you win in a round of Mahjong depends on the number of Doubles (some people call them “tai” or “fan”) your combination entitles you to.', 'If you are having trouble remembering how many Doubles your combination entitles you to, we did a compilation to help you out!', 'Number of doubles\\n\\n(Tai or Fan) Combination 1 Double\\n\\n一台 Seat Flower (正花/门花)\\n\\n\\n\\nAll Chows but with Animal or bonus tile (臭平和)\\n\\n\\n\\nPong of Dragons (箭刻)\\n\\n\\n\\nPong of Seat Wind (门风刻)\\n\\n\\n\\nPong of Round Wind (圈风刻)\\n\\n\\n\\nConcealed Hand and self-drawn (门清)\\n\\n\\n\\nRobbing the Kong (抢杠)\\n\\n\\n\\nWinning with the Last Drawn Tile (海底捞月)\\n\\n\\n\\nWinning with a Replacement tile for kongs (杠上开花)\\n\\n\\n\\nWinning with a Replacement tile for bonus tiles (花上自摸)\\n\\n\\n\\nFlower Set Bonus (花杠加台)\\n\\n\\n\\nAnimal Set Bonus (动物杠加台)\\n\\n\\n\\nAny Animal Tile (动物加台) 2 Doubles\\n\\n两台 All Pongs or All Pairs (碰碰和/对对和)\\n\\n\\n\\nMixed Suit (混一色)\\n\\n\\n\\nMixed Terminals and Honours (混幺九/混老头)\\n\\n\\n\\nLittle Four Winds/Little Four Blessings (小四喜) 3 Doubles\\n\\n三台 Little Three Dragons/Little Three Scholars (小三元) 4 Doubles\\n\\n四台 All Chows without any animal or bonus tiles (平和)\\n\\n\\n\\nPure Suit (清一色) 5 Doubles\\n\\n(Usually the limit in Singapore context)\\n\\n五台 Heavenly Win (天和)\\n\\n\\n\\nEarthly Win (地和)\\n\\n\\n\\nThirteen Orphans/Thirteen Wonders (十三幺)\\n\\n\\n\\nBig Four Winds/Big Four Blessings (大四喜)\\n\\n\\n\\nBig Three Dragons/Big Three Scholars (大三元)\\n\\n\\n\\nAll Honours (字一色)\\n\\n\\n\\nPure Green Suit Hand (绿一色)\\n\\n\\n\\nAll Terminals (全幺九/清老头)\\n\\n\\n\\nFour Concealed Pongs (self-drawn) (四暗刻/坎坎和)\\n\\n\\n\\nAll Kongs (杠杠和/十八罗汉)\\n\\n\\n\\nKong on Kong Win (杠上杠和)\\n\\n\\n\\nFlower Win/Robbing the Flower (immediate) (七抢一)\\n\\n\\n\\nFlower Win/Eight Immortals (immediate) (花和/八仙过海)\\n\\n\\n\\nNine Gates (九连宝灯)\\n\\nSource: Singapore Sparrows\\n\\nFurther Reading on the Probability of These Mahjong Winning Hand\\n\\nMahjong Combination: All Chows without any animal or bonus tiles (平和) and Mixed Suit (混一色)\\n\\nAll Chows without any animal or bonus tiles (平和) and Mixed Suit (混一色) the more common winning hands in a game of Mahjong.', 'These two combinations have a 1 in 16 chance of happening throughout a round of mahjong.', 'Here’s what an “All Chows without any animal or bonus tiles (平和)” combination looks like:\\n\\nIt is a winning hand which consists only of consecutive numbers in sets of three.', 'The set should not have any flowers, animals, own wind or dragon tiles in it.', 'Here’s what a Mixed Suit (混一色)combination looks like:\\n\\nFor Mixed suit, it is a combination made up of tiles of the same suit and includes Winds or Dragons tiles.', 'Mahjong Combination: Pure Suit (清一色)\\n\\nA Pure Suit (清一色) winning hand has a 1 in 32 chance of occurring.', 'A Pure Suit is a combination made up of tiles from the same suit (eg.', 'Bamboo, Circles or Characters).', 'Mahjong Combination: Winning With a Replacement Tile for Bonus Tiles (花上自摸)\\n\\nFor every 208 rounds of Mahjong game, there is a chance of players winning the game, with a hand completed by a replacement card.', 'This is after receiving a flower or animal tile.', 'Mahjong Combination: Robbing the Kong (抢杠)\\n\\nA winning hand that is completed by snatching a declared Kong from other players.', 'There is a 1 in 320 chance of this happening.', 'Mahjong Combination: Little Three Dragons/Little Three Scholars (小三元)\\n\\nLittle Three Dragons/Little Three Scholars is a hand made up of 2 sets of Dragon tiles and the remaining Dragon set as the eye.', 'There is a 1 in 384 chance of this happening.', 'Now, to some of the hardest combinations.', 'These are the only type of winning hands worth putting on your social media.', 'Mahjong Combination: Thirteen Orphans/Thirteen Wonders (十三幺)\\n\\nThis is, in my opinion, one of the hardest combinations to get, but I was wrong.', 'Turns out, the Thirteen Orphans/Thirteen Wonders is actually the easiest when compared to the rest of the special combinations.', 'There is a 1 in 2,464 chance of it happening.', 'This combination requires each of the four Winds tile, each of the three Dragons tile, the number one and number nine of the three suits (Bamboo, Circles or Characters).', 'Mahjong Combination: Little Four Winds/Little Four Blessings (小四喜)\\n\\nWe are now down to some of the rarer winning hands in mahjong.', 'The Little Four Winds/Little Four Blessings is made up of three of the Winds (in a pong or Kong)with one pair of the remaining Wind.', 'This combination has a 1 in 3,232 chance of happening.', 'Mahjong Combination: Big Three Dragons/Big Three Scholars (大三元)\\n\\nUnleash the Dragons!', 'If you have three of the Dragons (in a pong or kong), you are winning the game with the Big Three Dragons/Big Three Scholars combination.', 'There is only a 1 in 3,744 chance of you getting it.', 'Mahjong Combination: All Honours (字一色)\\n\\nIf you have a hand made up of either the four Winds or three Dragons, you have an All Honours winning hand.', 'This combination only appears once every 5,200 round.', 'Mahjong Combination: Pure Green Suit Hand/ The Green Bamboo (绿一色)\\n\\nWe are down to the second rarest combination.', 'The Pure Green Suit Hand has a 1 in 10,400 chance of happening.', 'The reason that this hand got its name lies in the colour of all the tiles in this winning hand.', 'Made up of only Bamboo tiles and the ‘Fa’ tile, this winning hand is hard to come by.', 'Mahjong Combination: Big Four Winds/Big Four Blessings (大四喜)\\n\\nNo prize for guessing, but the Big Four Winds/Big Four Blessings winning hand has the lowest probability in a game of mahjong.', 'With a rare 1 in 57,856 chance of happening, this combination definitely needs to go onto your Instastory!', 'This winning hand requires all the Winds (be it pong or kong) to be in the combination.', 'How To Play Mahjong\\n\\nThere are a total of 148 tiles in a Singaporean Mahjong set.', 'The tilesets are:\\n\\nThe Circles Suit (筒子)\\n\\nThere are 4 of each tile in a Singaporean Mahjong set.', 'The Bamboo Suit (索子)\\n\\nThere are 4 of each tile in a Singaporean Mahjong set.', 'The Character Suit (万子)\\n\\nThere are 4 of each tile in a Singaporean Mahjong set.', 'The Wind Tiles (万子)\\n\\nThere are 4 of each tile in a Singaporean Mahjong set.', 'The Dragon Tiles (三元牌)\\n\\nThere are 4 of each tile in a Singaporean Mahjong set.', 'The Flower and Animals Tiles\\n\\nThere is only one of each per set.', 'How To Win Mahjong\\n\\nOver a game of mahjong, tiles are distributed to the players and the game is played.', 'The game ends when one of the players managed to assemble a winning hand or when the unused tile runs out.', 'In the case when the unused tile runs out, the game is considered a draw.', 'What Happens Next After A Win?', 'When someone wins the game, the banker position is passed on to the player on the right of the current banker.', 'Each time, the banker position completes its cycle on all the four players, the “Wind” of the game changes.', 'A mahjong round is completed when all four “Winds” are completed.']\n"
     ]
    }
   ],
   "source": [
    "#Tokenization\n",
    "text = corpus\n",
    "sent_tokens = nltk.sent_tokenize(text) #Convert the text into a list of sentences\n",
    "\n",
    "#Print the list of sentences\n",
    "print(sent_tokens)"
   ]
  },
  {
   "cell_type": "code",
   "execution_count": 6,
   "metadata": {
    "colab": {
     "base_uri": "https://localhost:8080/",
     "height": 70
    },
    "colab_type": "code",
    "id": "jwYDTPoDRjZp",
    "outputId": "da2f499c-58cd-445b-f7ac-904fcf524cb2"
   },
   "outputs": [
    {
     "name": "stdout",
     "output_type": "stream",
     "text": [
      "!\"#$%&'()*+,-./:;<=>?@[\\]^_`{|}~\n",
      "{33: None, 34: None, 35: None, 36: None, 37: None, 38: None, 39: None, 40: None, 41: None, 42: None, 43: None, 44: None, 45: None, 46: None, 47: None, 58: None, 59: None, 60: None, 61: None, 62: None, 63: None, 64: None, 91: None, 92: None, 93: None, 94: None, 95: None, 96: None, 123: None, 124: None, 125: None, 126: None}\n"
     ]
    }
   ],
   "source": [
    "#Create a dictionary (key:value) pair to remove punctuations\n",
    "remove_punct_dict = dict(  ( ord(punct),None) for punct in string.punctuation)\n",
    "\n",
    "#Print the punctuations\n",
    "print(string.punctuation)\n",
    "\n",
    "#Print the dictionary\n",
    "print(remove_punct_dict)"
   ]
  },
  {
   "cell_type": "code",
   "execution_count": 7,
   "metadata": {
    "colab": {
     "base_uri": "https://localhost:8080/",
     "height": 54
    },
    "colab_type": "code",
    "id": "H5RmyG0kSOhb",
    "outputId": "7a93861e-bc62-46b5-e83a-2896e722bdea"
   },
   "outputs": [
    {
     "name": "stdout",
     "output_type": "stream",
     "text": [
      "['mahjong', 'singaporean', '’', 's', 'favourite', 'pastime', 'way', 'before', 'crazy', 'rich', 'asians', 'made', 'the', 'game', 'of', 'mahjong', 'famous', 'by', 'slotting', 'it', 'into', 'the', 'most', 'important', 'scene', 'in', 'the', 'movie', 'some', 'of', 'us', 'singaporeans', 'are', 'already', 'killing', 'it', 'in', 'our', 'selfdirected', '“', 'god', 'of', 'gamblers', '”', 'series', 'week', 'in', 'week', 'out', 'we', 'fully', 'utilise', 'the', '“', 'healing', 'power', 'of', 'mahjong', '”', 'and', 'how', 'it', 'treats', 'senile', 'as', 'an', 'excuse', 'to', 'gather', 'with', 'our', 'friends', 'or', 'family', 'members', 'over', 'a', 'game', 'on', 'mahjong', 'mahjong', 'is', 'good', 'they', 'say', 'it', 'treats', 'senile', 'they', 'say', 'that', 'was', 'before', 'i', 'lost', 'all', 'my', 'taxi', 'money', 'and', 'end', 'up', 'walking', 'home', 'with', 'that', 'we', 'compiled', 'a', 'mahjong', 'guide', 'and', 'find', 'out', 'the', 'probability', 'of', 'some', 'of', 'these', 'winning', 'hands', 'the', 'probability', 'of', 'seeing', 'these', 'mahjong', 'winning', 'hands', 'some', 'of', 'us', 'are', 'guilty', 'of', 'taking', 'instagram', 'stories', 'of', 'our', 'tiles', 'whenever', 'we', 'win', 'with', 'a', 'certain', 'hand', 'we', 'get', 'it', 'you', 'made', 'some', 'money', 'welldone', 'truth', 'is', 'not', 'all', 'mahjong', 'hands', 'are', 'created', 'evenly', 'some', 'of', 'these', 'hands', 'have', 'a', 'lower', 'chance', 'of', 'happening', 'than', 'the', 'rest', 'based', 'on', 'a', 'study', 'done', 'if', 'you', 'were', 'to', 'play', '1', 'full', 'game', 'assuming', '16', 'rounds', 'of', 'mahjong', 'a', 'day', 'of', 'mahjong', 'a', 'day', 'starting', 'from', '1', 'january', '2018', 'assuming', '365', 'days', 'a', 'year', 'here', 'are', 'the', 'dates', 'of', 'which', 'you', 'will', 'see', 'these', 'mahjong', 'hands', 'mahjong', 'hand', 'when', 'will', 'you', 'see', 'it', 'number', 'of', 'rounds', 'assuming', '16', 'rounds', 'per', 'day', 'probability', 'of', 'seeing', 'this', 'winning', 'mahjong', 'hand', 'all', 'chows', 'without', 'any', 'animal', 'or', 'bonus', 'tiles', '平和', '1', 'january', '2018', '1', 'day', '16', 'rounds', '1', 'in', '16', 'rounds', 'mixed', 'suit', '混一色', '1', 'january', '2018', '1', 'day', '16', 'rounds', '1', 'in', '16', 'rounds', 'pure', 'suit', '清一色', '2', 'january', '2018', '2', 'days', '32', 'rounds', '1', 'in', '32', 'rounds', 'winning', 'with', 'a', 'replacement', 'tile', 'for', 'bonus', 'tiles', '花上自摸', '13', 'january', '2018', '13', 'days', '208', 'rounds', '1', 'in', '208', 'rounds', 'robbing', 'the', 'kong', '抢杠', '20', 'january', '2018', '20', 'days', '320', 'rounds', '1', 'in', '320', 'rounds', 'little', 'three', 'dragonslittle', 'three', 'scholars', '小三元', '24', 'january', '2018', '24', 'days', '384', 'rounds', '1', 'in', '384', 'rounds', 'thirteen', 'orphansthirteen', 'wonders', '十三幺', '3', 'june', '2018', '154', 'days', '2464', 'rounds', '1', 'in', '2464', 'rounds', 'little', 'four', 'windslittle', 'four', 'blessings', '小四喜', '22', 'july', '2018', '202', 'days', '3232', 'rounds', '1', 'in', '3232', 'rounds', 'big', 'three', 'dragonsbig', 'three', 'scholars', 'immediate', '大三元', '4', 'august', '2018', '234', 'days', '3744', 'rounds', '1', 'in', '3744', 'rounds', 'all', 'honours', '字一色', '21', 'november', '2018', '325', 'days', '5200', 'rounds', '1', 'in', '5200', 'rounds', 'pure', 'green', 'suit', 'hand', '绿一色', '12', 'october', '2019', '650', 'days', '10400', 'rounds', '1', 'in', '10400', 'rounds', 'big', 'four', 'windsbig', 'four', 'blessings', '大四喜', '27', 'november', '2026', '3616', 'days', '57856', 'rounds', '1', 'in', '57856', 'rounds', 'source', 'mahjongnewscom', 'mahjong', 'guide', 'for', 'singaporeans', 'scoring', 'the', 'amount', 'of', 'money', 'you', 'win', 'in', 'a', 'round', 'of', 'mahjong', 'depends', 'on', 'the', 'number', 'of', 'doubles', 'some', 'people', 'call', 'them', '“', 'tai', '”', 'or', '“', 'fan', '”', 'your', 'combination', 'entitles', 'you', 'to', 'if', 'you', 'are', 'having', 'trouble', 'remembering', 'how', 'many', 'doubles', 'your', 'combination', 'entitles', 'you', 'to', 'we', 'did', 'a', 'compilation', 'to', 'help', 'you', 'out', 'number', 'of', 'doubles', 'tai', 'or', 'fan', 'combination', '1', 'double', '一台', 'seat', 'flower', '正花门花', 'all', 'chows', 'but', 'with', 'animal', 'or', 'bonus', 'tile', '臭平和', 'pong', 'of', 'dragons', '箭刻', 'pong', 'of', 'seat', 'wind', '门风刻', 'pong', 'of', 'round', 'wind', '圈风刻', 'concealed', 'hand', 'and', 'selfdrawn', '门清', 'robbing', 'the', 'kong', '抢杠', 'winning', 'with', 'the', 'last', 'drawn', 'tile', '海底捞月', 'winning', 'with', 'a', 'replacement', 'tile', 'for', 'kongs', '杠上开花', 'winning', 'with', 'a', 'replacement', 'tile', 'for', 'bonus', 'tiles', '花上自摸', 'flower', 'set', 'bonus', '花杠加台', 'animal', 'set', 'bonus', '动物杠加台', 'any', 'animal', 'tile', '动物加台', '2', 'doubles', '两台', 'all', 'pongs', 'or', 'all', 'pairs', '碰碰和对对和', 'mixed', 'suit', '混一色', 'mixed', 'terminals', 'and', 'honours', '混幺九混老头', 'little', 'four', 'windslittle', 'four', 'blessings', '小四喜', '3', 'doubles', '三台', 'little', 'three', 'dragonslittle', 'three', 'scholars', '小三元', '4', 'doubles', '四台', 'all', 'chows', 'without', 'any', 'animal', 'or', 'bonus', 'tiles', '平和', 'pure', 'suit', '清一色', '5', 'doubles', 'usually', 'the', 'limit', 'in', 'singapore', 'context', '五台', 'heavenly', 'win', '天和', 'earthly', 'win', '地和', 'thirteen', 'orphansthirteen', 'wonders', '十三幺', 'big', 'four', 'windsbig', 'four', 'blessings', '大四喜', 'big', 'three', 'dragonsbig', 'three', 'scholars', '大三元', 'all', 'honours', '字一色', 'pure', 'green', 'suit', 'hand', '绿一色', 'all', 'terminals', '全幺九清老头', 'four', 'concealed', 'pongs', 'selfdrawn', '四暗刻坎坎和', 'all', 'kongs', '杠杠和十八罗汉', 'kong', 'on', 'kong', 'win', '杠上杠和', 'flower', 'winrobbing', 'the', 'flower', 'immediate', '七抢一', 'flower', 'wineight', 'immortals', 'immediate', '花和八仙过海', 'nine', 'gates', '九连宝灯', 'source', 'singapore', 'sparrows', 'further', 'reading', 'on', 'the', 'probability', 'of', 'these', 'mahjong', 'winning', 'hand', 'mahjong', 'combination', 'all', 'chows', 'without', 'any', 'animal', 'or', 'bonus', 'tiles', '平和', 'and', 'mixed', 'suit', '混一色', 'all', 'chows', 'without', 'any', 'animal', 'or', 'bonus', 'tiles', '平和', 'and', 'mixed', 'suit', '混一色', 'the', 'more', 'common', 'winning', 'hands', 'in', 'a', 'game', 'of', 'mahjong', 'these', 'two', 'combinations', 'have', 'a', '1', 'in', '16', 'chance', 'of', 'happening', 'throughout', 'a', 'round', 'of', 'mahjong', 'here', '’', 's', 'what', 'an', '“', 'all', 'chows', 'without', 'any', 'animal', 'or', 'bonus', 'tiles', '平和', '”', 'combination', 'looks', 'like', 'it', 'is', 'a', 'winning', 'hand', 'which', 'consists', 'only', 'of', 'consecutive', 'numbers', 'in', 'sets', 'of', 'three', 'the', 'set', 'should', 'not', 'have', 'any', 'flowers', 'animals', 'own', 'wind', 'or', 'dragon', 'tiles', 'in', 'it', 'here', '’', 's', 'what', 'a', 'mixed', 'suit', '混一色combination', 'looks', 'like', 'for', 'mixed', 'suit', 'it', 'is', 'a', 'combination', 'made', 'up', 'of', 'tiles', 'of', 'the', 'same', 'suit', 'and', 'includes', 'winds', 'or', 'dragons', 'tiles', 'mahjong', 'combination', 'pure', 'suit', '清一色', 'a', 'pure', 'suit', '清一色', 'winning', 'hand', 'has', 'a', '1', 'in', '32', 'chance', 'of', 'occurring', 'a', 'pure', 'suit', 'is', 'a', 'combination', 'made', 'up', 'of', 'tiles', 'from', 'the', 'same', 'suit', 'eg', 'bamboo', 'circles', 'or', 'characters', 'mahjong', 'combination', 'winning', 'with', 'a', 'replacement', 'tile', 'for', 'bonus', 'tiles', '花上自摸', 'for', 'every', '208', 'rounds', 'of', 'mahjong', 'game', 'there', 'is', 'a', 'chance', 'of', 'players', 'winning', 'the', 'game', 'with', 'a', 'hand', 'completed', 'by', 'a', 'replacement', 'card', 'this', 'is', 'after', 'receiving', 'a', 'flower', 'or', 'animal', 'tile', 'mahjong', 'combination', 'robbing', 'the', 'kong', '抢杠', 'a', 'winning', 'hand', 'that', 'is', 'completed', 'by', 'snatching', 'a', 'declared', 'kong', 'from', 'other', 'players', 'there', 'is', 'a', '1', 'in', '320', 'chance', 'of', 'this', 'happening', 'mahjong', 'combination', 'little', 'three', 'dragonslittle', 'three', 'scholars', '小三元', 'little', 'three', 'dragonslittle', 'three', 'scholars', 'is', 'a', 'hand', 'made', 'up', 'of', '2', 'sets', 'of', 'dragon', 'tiles', 'and', 'the', 'remaining', 'dragon', 'set', 'as', 'the', 'eye', 'there', 'is', 'a', '1', 'in', '384', 'chance', 'of', 'this', 'happening', 'now', 'to', 'some', 'of', 'the', 'hardest', 'combinations', 'these', 'are', 'the', 'only', 'type', 'of', 'winning', 'hands', 'worth', 'putting', 'on', 'your', 'social', 'media', 'mahjong', 'combination', 'thirteen', 'orphansthirteen', 'wonders', '十三幺', 'this', 'is', 'in', 'my', 'opinion', 'one', 'of', 'the', 'hardest', 'combinations', 'to', 'get', 'but', 'i', 'was', 'wrong', 'turns', 'out', 'the', 'thirteen', 'orphansthirteen', 'wonders', 'is', 'actually', 'the', 'easiest', 'when', 'compared', 'to', 'the', 'rest', 'of', 'the', 'special', 'combinations', 'there', 'is', 'a', '1', 'in', '2464', 'chance', 'of', 'it', 'happening', 'this', 'combination', 'requires', 'each', 'of', 'the', 'four', 'winds', 'tile', 'each', 'of', 'the', 'three', 'dragons', 'tile', 'the', 'number', 'one', 'and', 'number', 'nine', 'of', 'the', 'three', 'suits', 'bamboo', 'circles', 'or', 'characters', 'mahjong', 'combination', 'little', 'four', 'windslittle', 'four', 'blessings', '小四喜', 'we', 'are', 'now', 'down', 'to', 'some', 'of', 'the', 'rarer', 'winning', 'hands', 'in', 'mahjong', 'the', 'little', 'four', 'windslittle', 'four', 'blessings', 'is', 'made', 'up', 'of', 'three', 'of', 'the', 'winds', 'in', 'a', 'pong', 'or', 'kongwith', 'one', 'pair', 'of', 'the', 'remaining', 'wind', 'this', 'combination', 'has', 'a', '1', 'in', '3232', 'chance', 'of', 'happening', 'mahjong', 'combination', 'big', 'three', 'dragonsbig', 'three', 'scholars', '大三元', 'unleash', 'the', 'dragons', 'if', 'you', 'have', 'three', 'of', 'the', 'dragons', 'in', 'a', 'pong', 'or', 'kong', 'you', 'are', 'winning', 'the', 'game', 'with', 'the', 'big', 'three', 'dragonsbig', 'three', 'scholars', 'combination', 'there', 'is', 'only', 'a', '1', 'in', '3744', 'chance', 'of', 'you', 'getting', 'it', 'mahjong', 'combination', 'all', 'honours', '字一色', 'if', 'you', 'have', 'a', 'hand', 'made', 'up', 'of', 'either', 'the', 'four', 'winds', 'or', 'three', 'dragons', 'you', 'have', 'an', 'all', 'honours', 'winning', 'hand', 'this', 'combination', 'only', 'appears', 'once', 'every', '5200', 'round', 'mahjong', 'combination', 'pure', 'green', 'suit', 'hand', 'the', 'green', 'bamboo', '绿一色', 'we', 'are', 'down', 'to', 'the', 'second', 'rarest', 'combination', 'the', 'pure', 'green', 'suit', 'hand', 'has', 'a', '1', 'in', '10400', 'chance', 'of', 'happening', 'the', 'reason', 'that', 'this', 'hand', 'got', 'its', 'name', 'lies', 'in', 'the', 'colour', 'of', 'all', 'the', 'tiles', 'in', 'this', 'winning', 'hand', 'made', 'up', 'of', 'only', 'bamboo', 'tiles', 'and', 'the', '‘', 'fa', '’', 'tile', 'this', 'winning', 'hand', 'is', 'hard', 'to', 'come', 'by', 'mahjong', 'combination', 'big', 'four', 'windsbig', 'four', 'blessings', '大四喜', 'no', 'prize', 'for', 'guessing', 'but', 'the', 'big', 'four', 'windsbig', 'four', 'blessings', 'winning', 'hand', 'has', 'the', 'lowest', 'probability', 'in', 'a', 'game', 'of', 'mahjong', 'with', 'a', 'rare', '1', 'in', '57856', 'chance', 'of', 'happening', 'this', 'combination', 'definitely', 'needs', 'to', 'go', 'onto', 'your', 'instastory', 'this', 'winning', 'hand', 'requires', 'all', 'the', 'winds', 'be', 'it', 'pong', 'or', 'kong', 'to', 'be', 'in', 'the', 'combination', 'how', 'to', 'play', 'mahjong', 'there', 'are', 'a', 'total', 'of', '148', 'tiles', 'in', 'a', 'singaporean', 'mahjong', 'set', 'the', 'tilesets', 'are', 'the', 'circles', 'suit', '筒子', 'there', 'are', '4', 'of', 'each', 'tile', 'in', 'a', 'singaporean', 'mahjong', 'set', 'the', 'bamboo', 'suit', '索子', 'there', 'are', '4', 'of', 'each', 'tile', 'in', 'a', 'singaporean', 'mahjong', 'set', 'the', 'character', 'suit', '万子', 'there', 'are', '4', 'of', 'each', 'tile', 'in', 'a', 'singaporean', 'mahjong', 'set', 'the', 'wind', 'tiles', '万子', 'there', 'are', '4', 'of', 'each', 'tile', 'in', 'a', 'singaporean', 'mahjong', 'set', 'the', 'dragon', 'tiles', '三元牌', 'there', 'are', '4', 'of', 'each', 'tile', 'in', 'a', 'singaporean', 'mahjong', 'set', 'the', 'flower', 'and', 'animals', 'tiles', 'there', 'is', 'only', 'one', 'of', 'each', 'per', 'set', 'how', 'to', 'win', 'mahjong', 'over', 'a', 'game', 'of', 'mahjong', 'tiles', 'are', 'distributed', 'to', 'the', 'players', 'and', 'the', 'game', 'is', 'played', 'the', 'game', 'ends', 'when', 'one', 'of', 'the', 'players', 'managed', 'to', 'assemble', 'a', 'winning', 'hand', 'or', 'when', 'the', 'unused', 'tile', 'runs', 'out', 'in', 'the', 'case', 'when', 'the', 'unused', 'tile', 'runs', 'out', 'the', 'game', 'is', 'considered', 'a', 'draw', 'what', 'happens', 'next', 'after', 'a', 'win', 'when', 'someone', 'wins', 'the', 'game', 'the', 'banker', 'position', 'is', 'passed', 'on', 'to', 'the', 'player', 'on', 'the', 'right', 'of', 'the', 'current', 'banker', 'each', 'time', 'the', 'banker', 'position', 'completes', 'its', 'cycle', 'on', 'all', 'the', 'four', 'players', 'the', '“', 'wind', '”', 'of', 'the', 'game', 'changes', 'a', 'mahjong', 'round', 'is', 'completed', 'when', 'all', 'four', '“', 'winds', '”', 'are', 'completed']\n"
     ]
    }
   ],
   "source": [
    "#Create a function to return a list of lemmatized lower case words after removing punctuations\n",
    "def LemNormalize(text):\n",
    "  return nltk.word_tokenize(text.lower().translate(remove_punct_dict))\n",
    "\n",
    "#Print the tokenization text\n",
    "print(LemNormalize(text))"
   ]
  },
  {
   "cell_type": "code",
   "execution_count": 8,
   "metadata": {
    "colab": {},
    "colab_type": "code",
    "id": "6e3nypCjS2AB"
   },
   "outputs": [],
   "source": [
    "#Keyword Matching\n",
    "\n",
    "#Greeting Inputs\n",
    "GREETING_INPUTS = [\"hi\", \"hello\", \"hola\", \"greetings\", \"wassup\", \"hey\"]\n",
    "\n",
    "#Greeting responses back to the user\n",
    "GREETING_RESPONSES=[\"howdy\", \"hi\", \"hey\", \"what's good\", \"hello\", \"hey there\"]\n",
    "\n",
    "#Function to return a random greeting response to a users greeting\n",
    "def greeting(sentence):\n",
    "  #if the user's input is a greeting, then return a randomly chosen greeting response\n",
    "  for word in sentence.split():\n",
    "    if word.lower() in GREETING_INPUTS:\n",
    "      return random.choice(GREETING_RESPONSES)"
   ]
  },
  {
   "cell_type": "code",
   "execution_count": 9,
   "metadata": {
    "colab": {},
    "colab_type": "code",
    "id": "JFBo-KY1T2zC"
   },
   "outputs": [],
   "source": [
    "#Generate the response\n",
    "def response(user_response):\n",
    "  \n",
    "\n",
    "  #The users response / query\n",
    "  #user_response = 'What is chronic kidney disease'\n",
    "\n",
    "  user_response = user_response.lower() #Make the response lower case\n",
    "\n",
    "  ###Print the users query/ response\n",
    "  #print(user_response)\n",
    "\n",
    "  #Set the chatbot response to an empty string\n",
    "  robo_response = ''\n",
    "\n",
    "  #Append the users response to the sentence list\n",
    "  sent_tokens.append(user_response)\n",
    "\n",
    "  ###Print the sentence list after appending the users response\n",
    "  #print(sent_tokens)\n",
    "\n",
    "  #Create a TfidfVectorizer Object\n",
    "  TfidfVec = TfidfVectorizer(tokenizer = LemNormalize, stop_words='english')\n",
    "\n",
    "  #Convert the text to a matrix of TF-IDF features\n",
    "  tfidf = TfidfVec.fit_transform(sent_tokens)\n",
    "\n",
    "  ###Print the TFIDF features\n",
    "  #print(tfidf)\n",
    "\n",
    "  #Get the measure of similarity (similarity scores)\n",
    "  vals = cosine_similarity(tfidf[-1], tfidf)\n",
    "\n",
    "  #Print the similarity scores\n",
    "  #print(vals)\n",
    "\n",
    "  #Get the index of the most similar text/sentence to the users response\n",
    "  idx = vals.argsort()[0][-2]\n",
    "\n",
    "  #Reduce the dimensionality of vals\n",
    "  flat = vals.flatten()\n",
    "\n",
    "  #sort the list in ascending order\n",
    "  flat.sort()\n",
    "\n",
    "  #Get the most similar score to the users response\n",
    "  score = flat[-2]\n",
    "\n",
    "  #Print the similarity score\n",
    "  #print(score)\n",
    "\n",
    "  #If the variable 'score' is 0 then their is no text similar to the users response\n",
    "  if(score == 0):\n",
    "    robo_response = robo_response+\"I apologize, I don't understand.\"\n",
    "  else:\n",
    "    robo_response = robo_response+sent_tokens[idx]\n",
    "  \n",
    "  #Print the chat bot response\n",
    "  #print(robo_response)\n",
    "  \n",
    "  #Remove the users response from the sentence tokens list\n",
    "  sent_tokens.remove(user_response)\n",
    "  \n",
    "  return robo_response\n"
   ]
  },
  {
   "cell_type": "code",
   "execution_count": null,
   "metadata": {
    "colab": {
     "base_uri": "https://localhost:8080/",
     "height": 202
    },
    "colab_type": "code",
    "id": "BL7jojSPZFVv",
    "outputId": "0d1acca6-d540-4f17-b83d-0cb597b1f4eb"
   },
   "outputs": [
    {
     "name": "stdout",
     "output_type": "stream",
     "text": [
      "DOCBot: I am Doctor Bot or DOCBot for short. I will answer your queries about Chronic Kidney Disease. If you want to exit, type Bye!\n",
      "is the disease fatal?\n",
      "DOCBot: Chronic kidney disease can progress to end-stage kidney failure, which is fatal without artificial filtering (dialysis) or a kidney transplant.\n",
      "is it contagious?\n",
      "DOCBot: I apologize, I don't understand.\n",
      "can it spread?\n",
      "DOCBot: I apologize, I don't understand.\n",
      "what causes it\n",
      "DOCBot: Causes\n",
      "\n",
      "Normal kidney vs. diseased kidney Normal kidney vs. diseased kidney\n",
      "\n",
      "Polycystic kidney Polycystic kidney\n",
      "\n",
      "Chronic kidney disease occurs when a disease or condition impairs kidney function, causing kidney damage to worsen over several months or years.\n",
      "can it be cured?\n",
      "DOCBot: I apologize, I don't understand.\n"
     ]
    }
   ],
   "source": [
    "flag = True\n",
    "print(\"DOCBot: I am Doctor Bot or DOCBot for short. I will answer your queries about Chronic Kidney Disease. If you want to exit, type Bye!\")\n",
    "while(flag == True):\n",
    "  user_response = input()\n",
    "  user_response = user_response.lower()\n",
    "  if(user_response != 'bye'):\n",
    "    if(user_response == 'thanks' or user_response =='thank you'):\n",
    "      flag=False\n",
    "      print(\"DOCBot: You are welcome !\")\n",
    "    else:\n",
    "      if(greeting(user_response) != None):\n",
    "        print(\"DOCBot: \"+greeting(user_response))\n",
    "      else:\n",
    "        print(\"DOCBot: \"+response(user_response))       \n",
    "  else:\n",
    "    flag = False\n",
    "    print(\"DOCBot: Chat with you later !\")\n",
    "  "
   ]
  }
 ],
 "metadata": {
  "colab": {
   "name": "Untitled42.ipynb",
   "provenance": []
  },
  "kernelspec": {
   "display_name": "Python 3",
   "language": "python",
   "name": "python3"
  },
  "language_info": {
   "codemirror_mode": {
    "name": "ipython",
    "version": 3
   },
   "file_extension": ".py",
   "mimetype": "text/x-python",
   "name": "python",
   "nbconvert_exporter": "python",
   "pygments_lexer": "ipython3",
   "version": "3.7.5"
  }
 },
 "nbformat": 4,
 "nbformat_minor": 1
}
